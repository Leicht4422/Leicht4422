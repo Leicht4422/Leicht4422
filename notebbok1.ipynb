{
 "cells": [
  {
   "cell_type": "code",
   "execution_count": 2,
   "id": "bfdfd0a9",
   "metadata": {},
   "outputs": [
    {
     "name": "stdout",
     "output_type": "stream",
     "text": [
      "enter value111\n",
      "enter value222\n",
      "242\n"
     ]
    }
   ],
   "source": [
    "val1 = int(input(\"enter value1\"))\n",
    "val2 = int(input(\"enter value2\"))\n",
    "\n",
    "val3 = val1 * val2\n",
    "print(val3)"
   ]
  },
  {
   "cell_type": "code",
   "execution_count": 15,
   "id": "1fc5106a",
   "metadata": {},
   "outputs": [
    {
     "name": "stdout",
     "output_type": "stream",
     "text": [
      "nameKEN\n",
      "my name is KEN\n"
     ]
    }
   ],
   "source": [
    "name = input('name' )\n",
    "print('my', 'name', 'is', name )"
   ]
  },
  {
   "cell_type": "code",
   "execution_count": 11,
   "id": "d78034cc",
   "metadata": {},
   "outputs": [
    {
     "name": "stdout",
     "output_type": "stream",
     "text": [
      "octal value of 8 is 10\n"
     ]
    }
   ],
   "source": [
    "value = 8\n",
    "#0 reps the data stored in var value under the function str,format()\n",
    "print('octal value of 8 is {0:o}'.format(value))\n"
   ]
  },
  {
   "cell_type": "code",
   "execution_count": 13,
   "id": "514a2a9b",
   "metadata": {},
   "outputs": [
    {
     "name": "stdout",
     "output_type": "stream",
     "text": [
      "5895.46\n",
      "5895\n"
     ]
    }
   ],
   "source": [
    "num = 5895.455656\n",
    "#using %.nf n for decimal  place\n",
    "print('%.2f' % num)\n",
    "print('%.0f' % num)"
   ]
  },
  {
   "cell_type": "code",
   "execution_count": 14,
   "id": "975f222d",
   "metadata": {},
   "outputs": [
    {
     "name": "stdout",
     "output_type": "stream",
     "text": [
      "enter no at yr loc 0 :\n",
      "10\n",
      "enter no at yr loc 1 :\n",
      "23\n",
      "enter no at yr loc 2 :\n",
      "65\n",
      "enter no at yr loc 3 :\n",
      "4422\n",
      "enter no at yr loc 4 :\n",
      "65\n",
      "[10.0, 23.0, 65.0, 4422.0, 65.0]\n"
     ]
    }
   ],
   "source": [
    "#create a list variable\n",
    "numbers = []\n",
    "#iterate request 5 times for the list size\n",
    "for i in range(0, 5):\n",
    "    print('enter no at yr loc', i , \":\")\n",
    "    #accept float no from user\n",
    "    item = float(input())\n",
    "    #add no received frm input\n",
    "    numbers.append(item)\n",
    "    \n",
    "print(numbers)    "
   ]
  },
  {
   "cell_type": "code",
   "execution_count": 3,
   "id": "3651cd3f",
   "metadata": {},
   "outputs": [
    {
     "name": "stdout",
     "output_type": "stream",
     "text": [
      "(50, 40, 30, 20, 10)\n"
     ]
    }
   ],
   "source": [
    "tuple1 = (10, 20, 30, 40, 50)\n",
    "#reverse tuple\n",
    "tuple1 = tuple1[::-1]\n",
    "print(tuple1)"
   ]
  },
  {
   "cell_type": "code",
   "execution_count": 7,
   "id": "812f845a",
   "metadata": {},
   "outputs": [
    {
     "name": "stdout",
     "output_type": "stream",
     "text": [
      "20\n",
      "15\n"
     ]
    }
   ],
   "source": [
    "tuple2 = (\"Baby\", [10, 20, 30], (5, 10, 15))\n",
    "#access 20,15\n",
    "\n",
    "print(tuple2[1][1])\n",
    "print(tuple2[2][2])\n"
   ]
  },
  {
   "cell_type": "code",
   "execution_count": 8,
   "id": "87d93c61",
   "metadata": {},
   "outputs": [
    {
     "name": "stdout",
     "output_type": "stream",
     "text": [
      "<class 'tuple'>\n"
     ]
    }
   ],
   "source": [
    "tuple1 = (50,)\n",
    "print(type(tuple1))"
   ]
  },
  {
   "cell_type": "code",
   "execution_count": 9,
   "id": "7625b4ea",
   "metadata": {},
   "outputs": [
    {
     "name": "stdout",
     "output_type": "stream",
     "text": [
      "10\n",
      "20\n",
      "30\n",
      "40\n"
     ]
    }
   ],
   "source": [
    "tuple1 = (10, 20, 30, 40)\n",
    "a, b, c, d = tuple1\n",
    "print(a)\n",
    "print(b)\n",
    "print(c)\n",
    "print(d)"
   ]
  },
  {
   "cell_type": "code",
   "execution_count": 11,
   "id": "0ddd7afe",
   "metadata": {},
   "outputs": [
    {
     "name": "stdout",
     "output_type": "stream",
     "text": [
      "(99, 88)\n",
      "(11, 22)\n"
     ]
    }
   ],
   "source": [
    "tuple1 = (11, 22)\n",
    "tuple2 = (99, 88)\n",
    "tuple1, tuple2 = tuple2, tuple1\n",
    "\n",
    "print(tuple1)\n",
    "print(tuple2)"
   ]
  },
  {
   "cell_type": "code",
   "execution_count": 15,
   "id": "88805a36",
   "metadata": {},
   "outputs": [
    {
     "name": "stdout",
     "output_type": "stream",
     "text": [
      "(44, 55)\n"
     ]
    }
   ],
   "source": [
    "tuple1 = (11, 22, 33, 44, 55, 66)\n",
    "tuple2 = tuple1[-3:-1]\n",
    "print(tuple2)"
   ]
  },
  {
   "cell_type": "code",
   "execution_count": 16,
   "id": "fd0938aa",
   "metadata": {},
   "outputs": [
    {
     "name": "stdout",
     "output_type": "stream",
     "text": [
      "(11, [222, 33], 44, 55)\n"
     ]
    }
   ],
   "source": [
    "tuple1 = (11, [22, 33], 44, 55)\n",
    "list1 = list(tuple1)\n",
    "list1[1][0] = 222\n",
    "tuple2 = tuple(list1)\n",
    "print(tuple2)"
   ]
  },
  {
   "cell_type": "code",
   "execution_count": 18,
   "id": "99a03f1c",
   "metadata": {},
   "outputs": [
    {
     "name": "stdout",
     "output_type": "stream",
     "text": [
      "(('c', 11), ('a', 23), ('d', 29), ('b', 37))\n"
     ]
    }
   ],
   "source": [
    "tuple1 = (('a', 23), ('b', 37), ('c', 11), ('d', 29))\n",
    "tuple1 = tuple(sorted(list(tuple1), key = lambda x: x[1]))\n",
    "print(tuple1)"
   ]
  },
  {
   "cell_type": "code",
   "execution_count": 19,
   "id": "133df67c",
   "metadata": {},
   "outputs": [
    {
     "name": "stdout",
     "output_type": "stream",
     "text": [
      "2\n"
     ]
    }
   ],
   "source": [
    "tuple1 = (50, 10, 60, 70, 50)\n",
    "print(tuple1.count(50))"
   ]
  },
  {
   "cell_type": "code",
   "execution_count": 22,
   "id": "144fa96e",
   "metadata": {},
   "outputs": [
    {
     "name": "stdout",
     "output_type": "stream",
     "text": [
      "<class 'tuple'>\n",
      "True\n"
     ]
    }
   ],
   "source": [
    "def check(t):\n",
    "    return all(i == t[0] for i in t)\n",
    "tuple1 = (45, 45, 45, 45)\n",
    "print(type(tuple1))\n",
    "print(check(tuple1))\n"
   ]
  },
  {
   "cell_type": "code",
   "execution_count": 26,
   "id": "75cf2303",
   "metadata": {},
   "outputs": [
    {
     "name": "stdout",
     "output_type": "stream",
     "text": [
      "<class 'tuple'>\n",
      "{1, 2, 3, 4, 5, 6, 7}\n"
     ]
    }
   ],
   "source": [
    "numbers = (1, 2, 3, 4, 5, 6, 7, 7, 3, 4, 2, 2)\n",
    "#numbers1 = str(numbers)\n",
    "print(type(numbers))\n",
    "unq = set(numbers)\n",
    "print(unq)\n",
    "#print(type(numbers1))"
   ]
  },
  {
   "cell_type": "code",
   "execution_count": null,
   "id": "86f0ea8f",
   "metadata": {},
   "outputs": [],
   "source": []
  }
 ],
 "metadata": {
  "kernelspec": {
   "display_name": "Python 3 (ipykernel)",
   "language": "python",
   "name": "python3"
  },
  "language_info": {
   "codemirror_mode": {
    "name": "ipython",
    "version": 3
   },
   "file_extension": ".py",
   "mimetype": "text/x-python",
   "name": "python",
   "nbconvert_exporter": "python",
   "pygments_lexer": "ipython3",
   "version": "3.9.13"
  }
 },
 "nbformat": 4,
 "nbformat_minor": 5
}
