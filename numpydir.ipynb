{
 "cells": [
  {
   "cell_type": "code",
   "execution_count": 4,
   "id": "b9750e50",
   "metadata": {},
   "outputs": [
    {
     "name": "stdout",
     "output_type": "stream",
     "text": [
      "1>. (4, 2)\n",
      "2>. 2\n",
      "3>. <built-in method item of numpy.ndarray object at 0x000002074EC09BD0>\n"
     ]
    }
   ],
   "source": [
    "#welcome to numpy\n",
    "import numpy as np\n",
    "import math\n",
    "\n",
    "Array = [[33, 66],\n",
    "         [22, 44],\n",
    "         [55, 77],\n",
    "         [99, 88]]\n",
    "np_array = np.array(Array)\n",
    "print(\"1>.\", np_array.shape)\n",
    "print(\"2>.\", np_array.ndim)\n",
    "print(\"3>.\", np_array.item)"
   ]
  },
  {
   "cell_type": "code",
   "execution_count": 25,
   "id": "c391414a",
   "metadata": {},
   "outputs": [
    {
     "name": "stdout",
     "output_type": "stream",
     "text": [
      "[[0. 0.]\n",
      " [0. 0.]\n",
      " [0. 1.]\n",
      " [1. 0.]\n",
      " [1. 1.]\n",
      " [2. 0.]\n",
      " [2. 1.]]\n"
     ]
    }
   ],
   "source": [
    "import numpy as np \n",
    "n = 2\n",
    "fArray = np.empty(shape=[1, n])\n",
    "\n",
    "for i in range(3):\n",
    "    for j in range(2):\n",
    "        fArray = np.append(fArray, [[i, j]], 0)\n",
    "print(fArray)"
   ]
  },
  {
   "cell_type": "code",
   "execution_count": 26,
   "id": "33de24ed",
   "metadata": {},
   "outputs": [
    {
     "name": "stdout",
     "output_type": "stream",
     "text": [
      "[[0 0]\n",
      " [0 0]\n",
      " [0 0]\n",
      " [0 0]]\n"
     ]
    }
   ],
   "source": [
    "import numpy as np\n",
    "fArr = np.empty([4,2], dtype = np.uint16)\n",
    "print(fArr)"
   ]
  },
  {
   "cell_type": "code",
   "execution_count": null,
   "id": "df4ad058",
   "metadata": {},
   "outputs": [],
   "source": []
  }
 ],
 "metadata": {
  "kernelspec": {
   "display_name": "Python 3 (ipykernel)",
   "language": "python",
   "name": "python3"
  },
  "language_info": {
   "codemirror_mode": {
    "name": "ipython",
    "version": 3
   },
   "file_extension": ".py",
   "mimetype": "text/x-python",
   "name": "python",
   "nbconvert_exporter": "python",
   "pygments_lexer": "ipython3",
   "version": "3.9.13"
  }
 },
 "nbformat": 4,
 "nbformat_minor": 5
}
